{
 "cells": [
  {
   "cell_type": "code",
   "execution_count": 3,
   "id": "556ec350",
   "metadata": {},
   "outputs": [],
   "source": [
    "import pickle"
   ]
  },
  {
   "cell_type": "code",
   "execution_count": 4,
   "id": "a62dc71c",
   "metadata": {},
   "outputs": [],
   "source": [
    "numbers = list(range(1, 1_000_000, 2))\n"
   ]
  },
  {
   "cell_type": "code",
   "execution_count": 5,
   "id": "1e6692a0",
   "metadata": {},
   "outputs": [],
   "source": [
    "with open('num.pickle', 'wb') as num:\n",
    "    pickle.dump(numbers, num)"
   ]
  },
  {
   "cell_type": "code",
   "execution_count": null,
   "id": "b933a04e",
   "metadata": {},
   "outputs": [],
   "source": []
  }
 ],
 "metadata": {
  "kernelspec": {
   "display_name": "Python 3 (ipykernel)",
   "language": "python",
   "name": "python3"
  },
  "language_info": {
   "codemirror_mode": {
    "name": "ipython",
    "version": 3
   },
   "file_extension": ".py",
   "mimetype": "text/x-python",
   "name": "python",
   "nbconvert_exporter": "python",
   "pygments_lexer": "ipython3",
   "version": "3.11.3"
  }
 },
 "nbformat": 4,
 "nbformat_minor": 5
}
